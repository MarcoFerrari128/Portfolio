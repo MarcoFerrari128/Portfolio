{
 "cells": [
  {
   "cell_type": "markdown",
   "metadata": {},
   "source": [
    "# MCDM\n",
    "\n",
    "This project consists in the development of a MCDM system in order to determine the best alternative among a high number of possible alternatives.\n",
    "For the sake of simplicity - and given the simplistic nature of this project - a simple dataset is chosen (https://www.kaggle.com/justinas/nba-players-data). \n",
    "Moreover, a rudimental yet effective interface has been developed.\n",
    "\n",
    "Multi-criteria-decision-making are support systems which help the decision-maker in the decision process.\n",
    "When more than one objective need to be optimized, the choice among all alternatives can be tricky. In this process, MCDM come to help.\n",
    "\n",
    "In this project, I have developed a simple TOPSIS MCDM. The following steps are performed.\n",
    "\n",
    "## TOPSIS\n",
    "The TOPSIS method select the most equilibrate solutions, which minimize the distance from the ideal positive solution $a^+$ and maximize the distance from the ideal negative solution $a^-$.\n",
    "The design alternatives are represented in the matrix A:\n",
    "$$A=\\left[\\begin{array}{cccc}\n",
    "a_{11} & a_{12} & \\dots & a_{n1}\\\\\n",
    "a_{21} & a_{22} & \\dots & a_{n2}\\\\\n",
    "\\vdots & \\vdots & \\ddots & \\vdots\\\\\n",
    "a_{m1} & a_{m2} & \\dots & a_{nm}\n",
    "\\end{array}\\right]$$\n",
    "\n",
    "where $n$ is the number of features used in the decision process and $m$ is the number of alternatives.\n",
    "\n",
    "The TOPSIS method is made up of following steps:\n",
    "1. Normalization of the elements.\n",
    "$$z_{ij}=\\frac{a_{ij}}{\\sqrt{\\sum_{i=1}^{n}a_{ij}^{2}}}$$\n",
    "2. Weights of features.\n",
    "$$x_{ij}=z_{ij}\\cdot w_{j}$$\n",
    "3. Ideal positive and negative.\n",
    "$$\\begin{array}{c}\n",
    "a^{+}=\\max_{i}\\left(x_{ij}\\right),\\forall j\\\\\n",
    "a^{-}=\\min_{i}\\left(x_{ij}\\right),\\forall j\n",
    "\\end{array}$$\n",
    "4. Distances.\n",
    "$$\\begin{array}{c}\n",
    "s_{i}^{+}=\\sqrt{\\sum_{j=1}^{m}\\left(x_{ij}-x_{j}^{+}\\right)}\\\\\n",
    "s_{i}^{-}=\\sqrt{\\sum_{j=1}^{m}\\left(x_{ij}-x_{j}^{-}\\right)}\n",
    "\\end{array}$$\n",
    "5. Distance index.\n",
    "$$c_{i}=\\frac{s_{i}^{-}}{s_{i}^{-}+s_{i}^{+}}$$\n",
    "6. Order by decreasing $c_i$, from best to worst.\n",
    "\n",
    "## Visualization\n",
    "The visualization app allows to explore the solution, choosing both x and y axes. The colour of each marker indicates the ranking of the solution.\n",
    "It is possible to select the features to use in the decision process. As expected, the results vary when different features are used.\n"
   ]
  }
 ],
 "metadata": {
  "kernelspec": {
   "display_name": "Python 3",
   "language": "python",
   "name": "python3"
  },
  "language_info": {
   "codemirror_mode": {
    "name": "ipython",
    "version": 3
   },
   "file_extension": ".py",
   "mimetype": "text/x-python",
   "name": "python",
   "nbconvert_exporter": "python",
   "pygments_lexer": "ipython3",
   "version": "3.7.6"
  }
 },
 "nbformat": 4,
 "nbformat_minor": 4
}

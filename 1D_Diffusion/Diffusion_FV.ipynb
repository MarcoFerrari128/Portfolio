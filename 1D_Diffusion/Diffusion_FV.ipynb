{
 "cells": [
  {
   "cell_type": "markdown",
   "metadata": {},
   "source": [
    "# 1D convection and diffusion on a fin\n",
    "Finned surfaces are used in order to achieve higher heat exchange between solid and fluid surfaces. These can be found in many applications: air-cooled internal combustion engines, gas-liquid heat exchangers, cooling systems for electrical components.\n",
    "The simplest fin - which will be studied in this notebook - has a constant rectangular cross section, as shown in the figure below.\n",
    "\n",
    "![fin](img/fin.png)\n",
    "\n",
    "Some hypotesis can be made in order to evaluate the thermal performance of the fin:\n",
    "1. One-dimensional thermal field.\n",
    "2. Stationary analysis.\n",
    "3. Constant thermal conductivity. \n",
    "4. Heat exchange due to radiation is neglectable.\n",
    "5. No heat generation.\n",
    "6. Convective heat exhange coefficient does not change within the fin length."
   ]
  },
  {
   "cell_type": "markdown",
   "metadata": {},
   "source": [
    "## Finite Volumes analysis\n",
    "By dividing the fin in a certain number of small *control volumes*, it is possible to write the **energy balance equation** on each of them.\n",
    "\n",
    "![balance](img/fin2.png)\n",
    "\n",
    "With the notation described in the figure above, the energy balance for a generic control volume is:\n",
    "\n",
    "$$-q_w+q_e+q_{conv}=0$$\n",
    "\n",
    "The conductive terms $q_w$ and $q_e$ can be expressed with *Fourier's law*:\n",
    "\n",
    "$$q_i = -k\\cdot A_{c_i} \\cdot \\left(\\frac{dT}{dx}\\right)_i\\quad i=w,e$$\n",
    "\n",
    "where $A_{c_i}$ is the cross section of the i-th face of the control volume.\n",
    "\n",
    "The convective term can be expressed with the *Newton's law*:\n",
    "\n",
    "$$q_{conv}=\\Delta S \\cdot h \\cdot \\left(T_P-T_{\\infty}\\right)$$\n",
    "\n",
    "In case of constant rectangular cross section, $\\Delta S = P\\cdot \\Delta x$ where $P$ is the perimeter of the fin (both the upper and lower surface).\n",
    "\n",
    "The energy balance can therefore be formulated as:\n",
    "\n",
    "$$k\\cdot A_{c_w} \\cdot \\left(\\frac{dT}{dx}\\right)_w - k\\cdot A_{c_e} \\cdot \\left(\\frac{dT}{dx}\\right)_e + \\Delta S \\cdot h \\cdot \\left(T_P-T_{\\infty}\\right) = 0$$\n",
    "\n",
    "If a *2nd order central difference scheme* (CDS) is used to evaluate the fluxes, these can be written as:\n",
    "\n",
    "$$\\left(\\frac{dT}{dx}\\right)_w \\approx \\frac{T_P - T_W}{\\Delta x}$$\n",
    "\n",
    "and\n",
    "\n",
    "$$\\left(\\frac{dT}{dx}\\right)_e \\approx \\frac{T_E - T_P}{\\Delta x}$$\n",
    "\n",
    "So, for a generic (inner) CV, the balance is:\n",
    "\n",
    "$$A_WT_W+A_PT_P+A_ET_E=S_P$$\n",
    "\n",
    "where:\n",
    "\n",
    "$S_P = -\\Delta S \\cdot h \\cdot T_{\\infty}$\n",
    "\n",
    "$A_W = \\frac{k A_{c_w}}{\\Delta x}$\n",
    "\n",
    "$A_E = \\frac{k A_{c_e}}{\\Delta x}$\n",
    "\n",
    "$A_P = - \\left(A_W+A_E \\right) - \\Delta S \\cdot h$"
   ]
  },
  {
   "cell_type": "markdown",
   "metadata": {},
   "source": [
    "### Problem 1\n",
    "A fin is made of silicon, which has a thermal conductivity of $k=148.7 W/(m K)$ at room temperature $T_{\\infty} = 25 ^oC$. The convective coefficient is $h=200W/(m^2 K) $ at $T_{\\infty} = 25 ^oC$.\n",
    "\n",
    "The fin is $t=1 mm$ thick, $L=20 mm$ long, and has a very big depth.\n",
    "One side of the fin is held at $T_b=200 ^oC$, whereas the other side can be assumed to be perfectly insulated (no heat exchange).\n",
    "\n",
    "It is required to evaluate the thermal flux (per depth unit) $q^{'}_{num}$ exchanged by a plain fin with the finite volumes method. The numerical results, obtained with $N=10,20,40,80,160$ finite volumes, should then be compared with the analytical solution, given by\n",
    "\n",
    "$$q'_f=\\sqrt{hPkA_c}\\cdot\\tanh (m L) \\cdot \\left(T_b - T_{\\infty}\\right)\\quad [W/m]$$\n",
    "\n",
    "where $m=\\sqrt{\\frac{hP}{kA_c}}$"
   ]
  },
  {
   "cell_type": "markdown",
   "metadata": {},
   "source": [
    "### Solution"
   ]
  },
  {
   "cell_type": "code",
   "execution_count": 1,
   "metadata": {},
   "outputs": [],
   "source": [
    "import numpy as np\n",
    "import matplotlib.pyplot as plt"
   ]
  },
  {
   "cell_type": "markdown",
   "metadata": {},
   "source": [
    "First, let's define some properties."
   ]
  },
  {
   "cell_type": "code",
   "execution_count": 2,
   "metadata": {},
   "outputs": [],
   "source": [
    "T_room = 25 + 273.15 # Kelvin\n",
    "k = 148.7 # W/(mK)\n",
    "h = 200 # W/(m2K)\n",
    "t = 1e-3 # m\n",
    "w = 1 # m\n",
    "L = 20e-3 # m\n",
    "A_c = t * w # cross section"
   ]
  },
  {
   "cell_type": "markdown",
   "metadata": {},
   "source": [
    "Since the thickness is small (with respect to the length), a 1D analysis can be performed.\n",
    "\n",
    "The domain must be discretized. For the sake of simplicity, let's assume (for the moment) that $n=10$. Later on, we will vary the number of finite volumes.\n",
    "\n",
    "The idea is to evaluate the temperature at the centroid of each FV, and then estimate the total heat exchanged as the sum of the fluxes exchanged by each FV."
   ]
  },
  {
   "cell_type": "code",
   "execution_count": 3,
   "metadata": {},
   "outputs": [],
   "source": [
    "n = 10\n",
    "dx = L / n # element length\n",
    "Delta_S = 2 * w * dx"
   ]
  },
  {
   "cell_type": "markdown",
   "metadata": {},
   "source": [
    "Now we can define the coefficients $A_i$, which are constant for each inner FVs. \n",
    "\n",
    "The boundaries FV will be corrected later on."
   ]
  },
  {
   "cell_type": "code",
   "execution_count": 4,
   "metadata": {},
   "outputs": [],
   "source": [
    "A_W = k * A_c / dx\n",
    "A_E = k * A_c / dx\n",
    "A_P = - (A_W + A_E) - Delta_S * h\n",
    "S_P = - Delta_S * h * T_room"
   ]
  },
  {
   "cell_type": "markdown",
   "metadata": {},
   "source": [
    "In order to evaluate the temperatures at each CV centroid, a system of $n$ equations must be solved.\n",
    "Given the general system\n",
    "\n",
    "$$Ax-b=0$$\n",
    "\n",
    "in this case the matrix A will be a $n\\times n$ **tri-diagonal** matrix.\n",
    "Our task in therefore to build the matrices A and b, and then to solve the linear system.\n",
    "\n",
    "The diagonals of A are made as follows."
   ]
  },
  {
   "cell_type": "code",
   "execution_count": 5,
   "metadata": {},
   "outputs": [],
   "source": [
    "D_W = A_W * np.ones((n, ))\n",
    "D_E = A_E* np.ones((n, ))\n",
    "D_P = A_P * np.ones((n, ))\n",
    "S = S_P * np.ones((n, ))"
   ]
  },
  {
   "cell_type": "markdown",
   "metadata": {},
   "source": [
    "#### Boundary conditions\n",
    "Now, let's modify those diagonals in order to impose the boundary conditions.\n",
    "In detail, on the left end we will apply a *Dirichlet BC*, because the value of T on the surface is given. Therefore\n",
    "\n",
    "$ A_P = A_P - A_W$\n",
    "\n",
    "$ S_P = S_P - 2A_WT_{BC}$\n",
    "\n",
    "where $T_{BC}$ is known (right-hand side) and $A_P$ is unknown."
   ]
  },
  {
   "cell_type": "code",
   "execution_count": 6,
   "metadata": {},
   "outputs": [],
   "source": [
    "T_BC = 200 + 273.15 # K\n",
    "D_P[0] = D_P[0] - D_W[0]\n",
    "S[0] = S[0] - 2 * D_W[0] * T_BC\n",
    "D_W[0] = 0"
   ]
  },
  {
   "cell_type": "markdown",
   "metadata": {},
   "source": [
    "On the right end, a *Neumann BC* will be applied.\n",
    "\n",
    "$ A_P = A_P + C_{lhs} \\cdot A_E $\n",
    "\n",
    "$ S_P = S_P - C_{rhs} \\cdot A_E $\n",
    "\n",
    "where $C_{lhs} = \\frac{2k}{2k+\\alpha\\Delta x}$ and $C_{rhs} = \\frac{\\alpha\\Delta x}{2k+\\alpha\\Delta x}$. Since the right end of the fin can be assumed to be perfectly insulated, $\\alpha=0$. "
   ]
  },
  {
   "cell_type": "code",
   "execution_count": 7,
   "metadata": {},
   "outputs": [],
   "source": [
    "alpha = 0\n",
    "C_lhs = 2*k / (2*k + alpha*dx)\n",
    "C_rhs = alpha*dx / (2*k + alpha*dx)\n",
    "\n",
    "D_P[-1] = D_P[-1] + D_E[-1]*C_lhs\n",
    "S[-1] = S[-1] - D_E[-1]*C_rhs\n",
    "D_E[-1] = 0"
   ]
  },
  {
   "cell_type": "markdown",
   "metadata": {},
   "source": [
    "#### Sparse matrix"
   ]
  },
  {
   "cell_type": "markdown",
   "metadata": {},
   "source": [
    "It is possible now to assembly the A matrix, using the *diags* command, and then solve the linear system."
   ]
  },
  {
   "cell_type": "code",
   "execution_count": 8,
   "metadata": {},
   "outputs": [],
   "source": [
    "from scipy.sparse import diags\n",
    "from scipy.sparse.linalg import spsolve\n",
    "\n",
    "D = [D_W[1:], D_P, D_E[:-1]]\n",
    "A = diags(D, [-1, 0, 1], (n, n), format='csc')\n",
    "\n",
    "T = spsolve(A, S)"
   ]
  },
  {
   "cell_type": "markdown",
   "metadata": {},
   "source": [
    "It is now possible to plot the temperature for each FV."
   ]
  },
  {
   "cell_type": "code",
   "execution_count": 10,
   "metadata": {},
   "outputs": [
    {
     "data": {
      "text/plain": [
       "array([[-224.,   74.,    0.,    0.,    0.,    0.,    0.,    0.,    0.,\n",
       "           0.],\n",
       "       [  74., -150.,   74.,    0.,    0.,    0.,    0.,    0.,    0.,\n",
       "           0.],\n",
       "       [   0.,   74., -150.,   74.,    0.,    0.,    0.,    0.,    0.,\n",
       "           0.],\n",
       "       [   0.,    0.,   74., -150.,   74.,    0.,    0.,    0.,    0.,\n",
       "           0.],\n",
       "       [   0.,    0.,    0.,   74., -150.,   74.,    0.,    0.,    0.,\n",
       "           0.],\n",
       "       [   0.,    0.,    0.,    0.,   74., -150.,   74.,    0.,    0.,\n",
       "           0.],\n",
       "       [   0.,    0.,    0.,    0.,    0.,   74., -150.,   74.,    0.,\n",
       "           0.],\n",
       "       [   0.,    0.,    0.,    0.,    0.,    0.,   74., -150.,   74.,\n",
       "           0.],\n",
       "       [   0.,    0.,    0.,    0.,    0.,    0.,    0.,   74., -150.,\n",
       "          74.],\n",
       "       [   0.,    0.,    0.,    0.,    0.,    0.,    0.,    0.,   74.,\n",
       "         -75.]])"
      ]
     },
     "execution_count": 10,
     "metadata": {},
     "output_type": "execute_result"
    }
   ],
   "source": [
    "A.toarray().round()"
   ]
  },
  {
   "cell_type": "code",
   "execution_count": 9,
   "metadata": {},
   "outputs": [
    {
     "data": {
      "text/plain": [
       "Text(0.5, 1.0, 'Temperature in the fin with 10 FVs')"
      ]
     },
     "execution_count": 9,
     "metadata": {},
     "output_type": "execute_result"
    },
    {
     "data": {
      "image/png": "[encoded data removed]",
      "text/plain": [
       "<Figure size 432x288 with 1 Axes>"
      ]
     },
     "metadata": {},
     "output_type": "display_data"
    }
   ],
   "source": [
    "import seaborn as sns\n",
    "sns.set()\n",
    "plt.plot(T, 'o')\n",
    "plt.xlabel('FV')\n",
    "plt.ylabel('Temperature [K]')\n",
    "plt.title('Temperature in the fin with {} FVs'.format(n))"
   ]
  },
  {
   "cell_type": "markdown",
   "metadata": {},
   "source": [
    "The behaviour seems reasonable. Let's now evaluate the total flux, which is the sum of the heat exchanged by each FV.\n",
    "\n",
    "$$q{'}_{conv} = (T_{FV} - T_{\\infty}) \\cdot 2\\Delta x \\cdot h$$\n",
    "\n",
    "And compare it to the analytical one."
   ]
  },
  {
   "cell_type": "code",
   "execution_count": 11,
   "metadata": {},
   "outputs": [
    {
     "name": "stdout",
     "output_type": "stream",
     "text": [
      "The error is: 1.66\n"
     ]
    }
   ],
   "source": [
    "flux_num = np.sum((T - T_room) * h * 2 * dx * w)\n",
    "P = 2 * w\n",
    "m = np.sqrt(h * P / k / A_c)\n",
    "flux_th = np.sqrt(h * P * k * A_c) * np.tanh(m * L) * (T_BC - T_room)\n",
    "print('The error is: {:.2f}'.format(flux_th - flux_num))"
   ]
  },
  {
   "cell_type": "markdown",
   "metadata": {},
   "source": [
    "Since the error is low, the implementation seems to be correct.\n",
    "\n",
    "Now, we should refactor the code into a function, which allows us to compute the error for a range of FVs numbers.\n",
    "\n",
    "The following code is merely a refactoring of the previously explained code."
   ]
  },
  {
   "cell_type": "code",
   "execution_count": 17,
   "metadata": {},
   "outputs": [],
   "source": [
    "def OneDimFin(n, L=20e-3, w=1,\n",
    "              T_BC=200, T_room=25,\n",
    "              h=200, k=148.7, alpha=0):\n",
    "    \"\"\"\n",
    "    Evaluate the difference between analitical and numerical solution\n",
    "    for 1D convection and conduction on a fin.\n",
    "    \"\"\"\n",
    "    \n",
    "    T_BC = T_BC + 273.15\n",
    "    T_room = T_room + 273.15\n",
    "    dx = L / n # element length\n",
    "    Delta_S = 2 * w * dx\n",
    "    A_W = k * A_c / dx\n",
    "    A_E = k * A_c / dx\n",
    "    A_P = - (A_W + A_E) - Delta_S * h\n",
    "    S_P = - Delta_S * h * T_room\n",
    "    D_W = A_W * np.ones((n, ))\n",
    "    D_E = A_E* np.ones((n, ))\n",
    "    D_P = A_P * np.ones((n, ))\n",
    "    S = S_P * np.ones((n, ))\n",
    "\n",
    "    D_P[0] = D_P[0] - D_W[0]\n",
    "    S[0] = S[0] - 2 * D_W[0] * T_BC\n",
    "    D_W[0] = 0\n",
    "\n",
    "    C_lhs = 2*k / (2*k + alpha*dx)\n",
    "    C_rhs = alpha*dx / (2*k + alpha*dx)\n",
    "\n",
    "    D_P[-1] = D_P[-1] + D_E[-1]*C_lhs\n",
    "    S[-1] = S[-1] - D_E[-1]*C_rhs\n",
    "    D_E[-1] = 0\n",
    "\n",
    "    D = [D_W[1:], D_P, D_E[:-1]]\n",
    "    A = diags(D, [-1, 0, 1], (n, n), format='csc')\n",
    "\n",
    "    T = spsolve(A, S)\n",
    "\n",
    "    flux_num = np.sum((T - T_room) * h * 2 * dx * w)\n",
    "    P = 2 * w\n",
    "    m = np.sqrt(h * P / k / A_c)\n",
    "    flux_th = np.sqrt(h * P * k * A_c) * np.tanh(m * L) * (T_BC - T_room)\n",
    "    error = flux_th - flux_num\n",
    "    \n",
    "    return T, flux_num, error"
   ]
  },
  {
   "cell_type": "markdown",
   "metadata": {},
   "source": [
    "It is possible now to answer the question of the problem with a few lines of code. For reference, $y=x^{-2}$ is also plotted."
   ]
  },
  {
   "cell_type": "code",
   "execution_count": 18,
   "metadata": {},
   "outputs": [
    {
     "data": {
      "text/plain": [
       "Text(0.5, 1.0, 'Numerical error')"
      ]
     },
     "execution_count": 18,
     "metadata": {},
     "output_type": "execute_result"
    },
    {
     "data": {
      "image/png": "[encoded data removed]",
      "text/plain": [
       "<Figure size 432x288 with 1 Axes>"
      ]
     },
     "metadata": {},
     "output_type": "display_data"
    }
   ],
   "source": [
    "FVs = np.array([10, 20, 40, 80, 160])\n",
    "\n",
    "errors = []\n",
    "for i, num in zip(range(5), FVs) :\n",
    "    _, _, error = OneDimFin(num)\n",
    "    errors.append(error)\n",
    "\n",
    "plt.loglog(FVs, errors, 'o', label='Numerical error')\n",
    "x = np.linspace(10, 160, 100)\n",
    "plt.loglog(x, x**(-2), '--', label=r'$y=x^{-2}$')\n",
    "plt.xticks(ticks=FVs, labels=FVs)\n",
    "plt.xlabel('Number of FVs')\n",
    "plt.legend()\n",
    "plt.title('Numerical error')"
   ]
  },
  {
   "cell_type": "markdown",
   "metadata": {},
   "source": [
    "## Problem 2\n",
    "Perform the same analysis in the case that the thermal conductivity of silicon is a function of the temperature, as follows\n",
    "\n",
    "$$k=k_{\\infty}\\left(1+\\beta\\left(T-T_{\\infty}\\right)\\right)$$\n",
    "\n",
    "where \n",
    "$$\\beta=\\frac{k_b/k_{\\infty}-1}{T_b-T_{\\infty}}$$\n",
    "\n",
    "with $k_{\\infty}=148.7 W/(m K)$ and $k_{b}=85.8 W/(m K)$ thermal conductivities of silicon at $T_{\\infty}$ and $T_b$, respectively.\n",
    "The numerical approximation will be compared to some approximated analytical solutions, which are $q^{'}_f=809.4 W/m$ and $q^{''}_f=940.1 W/m$."
   ]
  },
  {
   "cell_type": "markdown",
   "metadata": {},
   "source": [
    "### Solution\n",
    "Given the non-linearity of the problem, an iterative approach must be used. The temperature at the FVs centroids and the thermal conductivities at their faces will be updated at each iteration, until convergence will be reached. \n",
    "\n",
    "The adopted iterative scheme is:\n",
    "1. Estimation of $k$ at the FVs faces, with a harmonic mean between FVs centroids.\n",
    "2. Evaluation of the temperature at the FVs centroids.\n",
    "3. Correction of $k$ in the FVs centroids.\n",
    "\n",
    "Particular attention should be given to the $k$ values at the FVs faces. If $n$ is the number\n",
    "of FVs, the number of the faces in which the thermal conductivity should be calculated are\n",
    "$n+1$. The evaluation of $k$ at FVs faces is based on the harmonic mean between the adjacent FVs.\n",
    "\n",
    "$$k_{hm,i}=\\frac{2\\cdot k_i \\cdot k_{i+1}}{k_i + k_{i+1}} \\quad i=1,...,n-1$$\n",
    "\n",
    "The values of $k_hm$ at the left and right end of the fin are, respectively, $k_{hm,0}=k_b$ and $k_{hm,n}=k_{hm,n-1}$."
   ]
  },
  {
   "cell_type": "code",
   "execution_count": 192,
   "metadata": {},
   "outputs": [],
   "source": [
    "def OneDimFinNonLinear(n, nIter=10, L=20e-3, w=1,\n",
    "                       T_BC=200, T_room=25,\n",
    "                       h=200, k_0=148.7, k_b=85.8, alpha=0):\n",
    "    \"\"\"\n",
    "    Evaluate the difference between analitical and numerical solution\n",
    "    for 1D convection and conduction on a fin.\n",
    "    The thermal conductivity depends on the temperature.\n",
    "    \"\"\"\n",
    "    # Results\n",
    "    Ts = []\n",
    "    errors = []\n",
    "    flux_nums = []\n",
    "    \n",
    "    T_BC = T_BC + 273.15\n",
    "    T_room = T_room + 273.15\n",
    "    beta = ((k_b / k_0) - 1) / (T_BC - T_room)\n",
    "    dx = L / n # element length\n",
    "    Delta_S = 2 * w * dx\n",
    "    \n",
    "    k = k_0 * np.ones((n, ))\n",
    "    k_hm = k_0 * np.ones((n+1, ))\n",
    "    \n",
    "    for i in np.arange(nIter):\n",
    "        k_hm[0] = k_b\n",
    "        k_hm[-1] = k[-1]\n",
    "        k_hm[1:-1] = (2 * k[:-1] * k[1:]) / (k[:-1] + k[1:])\n",
    "        \n",
    "        A_W = k_hm[:-1] * A_c / dx\n",
    "        A_E = k_hm[1:] * A_c / dx\n",
    "        A_P = - (A_W + A_E) - Delta_S * h\n",
    "        S_P = - Delta_S * h * T_room\n",
    "        D_W = A_W\n",
    "        D_E = A_E\n",
    "        D_P = A_P * np.ones((n, ))\n",
    "        S = S_P * np.ones((n, ))\n",
    "\n",
    "        D_P[0] = D_P[0] - D_W[0]\n",
    "        S[0] = S[0] - 2 * D_W[0] * T_BC\n",
    "        D_W[0] = 0\n",
    "\n",
    "        C_lhs = 2*k_hm[0] / (2*k_hm[0] + alpha*dx)\n",
    "        C_rhs = alpha*dx / (2*k_hm[-1] + alpha*dx)\n",
    "\n",
    "        D_P[-1] = D_P[-1] + D_E[-1]*C_lhs\n",
    "        S[-1] = S[-1] - D_E[-1]*C_rhs\n",
    "        D_E[-1] = 0\n",
    "\n",
    "        D = [D_W[1:], D_P, D_E[:-1]]\n",
    "        A = diags(D, [-1, 0, 1], (n, n), format='csc')\n",
    "        \n",
    "        # Direct solution\n",
    "        T = spsolve(A, S)\n",
    "\n",
    "        # Update k values\n",
    "        k = k_0 * (1 + beta * (T - T_room))\n",
    "        \n",
    "        flux_num = np.sum((T - T_room) * h * 2 * dx * w)\n",
    "        flux_th1 = 809.4\n",
    "        flux_th2 = 940.1\n",
    "        error = flux_num - np.array([flux_th1, flux_th2])\n",
    "        Ts.append(T)\n",
    "        flux_nums.append(flux_num)\n",
    "        errors.append(np.abs(error))\n",
    "        \n",
    "    return Ts, flux_nums, errors"
   ]
  },
  {
   "cell_type": "code",
   "execution_count": 193,
   "metadata": {},
   "outputs": [
    {
     "data": {
      "text/plain": [
       "<matplotlib.legend.Legend at 0x10882fdb288>"
      ]
     },
     "execution_count": 193,
     "metadata": {},
     "output_type": "execute_result"
    },
    {
     "data": {
      "image/png": "[encoded data removed]",
      "text/plain": [
       "<Figure size 432x288 with 1 Axes>"
      ]
     },
     "metadata": {},
     "output_type": "display_data"
    }
   ],
   "source": [
    "errors = []\n",
    "for n in FVs:\n",
    "    T, flux, err = OneDimFinNonLinear(n)\n",
    "    plt.plot(flux, label='{} FVs'.format(n))\n",
    "    errors.append(err[-1])\n",
    "    \n",
    "plt.xlabel('Iterations')\n",
    "plt.ylabel('Numerical flux')\n",
    "plt.title('Converge of the numerical flux')\n",
    "plt.legend()"
   ]
  },
  {
   "cell_type": "markdown",
   "metadata": {},
   "source": [
    "## References\n",
    "[1] E. Nobile, Homework No. 1, April 2018."
   ]
  }
 ],
 "metadata": {
  "kernelspec": {
   "display_name": "Python 3",
   "language": "python",
   "name": "python3"
  },
  "language_info": {
   "codemirror_mode": {
    "name": "ipython",
    "version": 3
   },
   "file_extension": ".py",
   "mimetype": "text/x-python",
   "name": "python",
   "nbconvert_exporter": "python",
   "pygments_lexer": "ipython3",
   "version": "3.7.6"
  }
 },
 "nbformat": 4,
 "nbformat_minor": 4
}

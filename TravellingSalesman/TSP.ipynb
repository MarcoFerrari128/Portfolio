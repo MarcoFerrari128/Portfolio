{
 "cells": [
  {
   "cell_type": "code",
   "execution_count": 8,
   "metadata": {},
   "outputs": [],
   "source": [
    "import numpy as np\n",
    "import matplotlib.pyplot as plt\n",
    "import pandas as pd"
   ]
  },
  {
   "cell_type": "markdown",
   "metadata": {},
   "source": [
    "# Traveling Salesman Problem\n",
    "The Travelling Salsesman Problem (TSP) is stated as follows: \n",
    "\"Given a list of cities and the distances between each pair of cities, what is the shortest possible route that visits each city and returns to the origin city?\". [1](https://en.wikipedia.org/wiki/Travelling_salesman_problem).\n",
    "This is an **optimization** (minimization) problem, where the objective function is the total length of the route.\n",
    "\n",
    "## Definitions\n",
    "The cities are defined with their x and y coordinates.\n",
    "\n",
    "$$\n",
    "X = \\left[\\begin{array}{cc} x_{1} & y_{1}\\\\ x_{2} & y_{2}\\\\ \\vdots & \\vdots\\\\ x_{n} & y_{n} \\end{array}\\right]\n",
    "$$\n",
    "\n",
    "where $n$ is the number of cities.\n",
    "The matrix of distances $A$ is a matrix where each element represent the distance between the i-th and j-th cities.\n",
    "\n",
    "$$\n",
    "A = \\left[\\begin{array}{cccc}\n",
    "0 & a_{12} & \\dots & a_{1n}\\\\\n",
    "a_{21} & 0 & \\dots & a_{2n}\\\\\n",
    "\\vdots & \\vdots & \\ddots & \\vdots\\\\\n",
    "a_{n1} & a_{n2} & \\dots & 0\n",
    "\\end{array}\\right]\n",
    "$$\n",
    "\n",
    "where $a_{ij}=a_{ji}=||x_{i}-x_{j}||$. Two properties of this matrix are:\n",
    "- it is a square matrix;\n",
    "- it is symmetric;\n",
    "- the element on the diagonal are zeros.\n",
    "\n",
    "## Simulation\n",
    "Random cities are initialized. For reproducibility, the seed of the random number generator is set to a certain value."
   ]
  },
  {
   "cell_type": "code",
   "execution_count": 9,
   "metadata": {},
   "outputs": [
    {
     "data": {
      "text/plain": [
       "Text(0.5, 1.0, '25 random cities')"
      ]
     },
     "execution_count": 9,
     "metadata": {},
     "output_type": "execute_result"
    },
    {
     "data": {
      "image/png": "[encoded data removed]",
      "text/plain": [
       "<Figure size 432x288 with 1 Axes>"
      ]
     },
     "metadata": {
      "needs_background": "light"
     },
     "output_type": "display_data"
    }
   ],
   "source": [
    "np.random.seed(13)\n",
    "n = 25\n",
    "x = np.random.rand(n, 2)\n",
    "plt.scatter(x[:,0], x[:,1])\n",
    "plt.title(str(n) + ' random cities')"
   ]
  },
  {
   "cell_type": "markdown",
   "metadata": {},
   "source": [
    "Then the matrix of distances $A$ is defined. The information of the starting and ending cities is given in the data dictionary, with the keyword *depot*."
   ]
  },
  {
   "cell_type": "code",
   "execution_count": 10,
   "metadata": {},
   "outputs": [],
   "source": [
    "# matrix of distances\n",
    "A = np.zeros((n, n))\n",
    "\n",
    "for i in range(n):\n",
    "    for j in range(i):\n",
    "        A[i, j] = np.linalg.norm(x[i]-x[j])\n",
    "        A[j, i] = A[i, j]\n",
    "\n",
    "data = {\n",
    "    'distance_matrix': A,\n",
    "    'depot': 0,\n",
    "}"
   ]
  },
  {
   "cell_type": "markdown",
   "metadata": {},
   "source": [
    "Then, a function to compute the length of the route is defined."
   ]
  },
  {
   "cell_type": "code",
   "execution_count": 11,
   "metadata": {},
   "outputs": [],
   "source": [
    "def computeDistance(route, data):\n",
    "    \"\"\"\n",
    "    Compute the total length of the route. \n",
    "    The order into which cities are visited is defined into the route array;\n",
    "    each element represent a city.\n",
    "    Then, the total distance is computed with the matrix of distances.\n",
    "    \"\"\"\n",
    "    \n",
    "    depot = data['depot']\n",
    "    distanceMatrix = data['distance_matrix']\n",
    "    totalDistance = 0\n",
    "    x = np.int64(route)\n",
    "    x = np.insert(route, [0, n-1], data['depot'])\n",
    "    for i in range(np.shape(route)[0]-1):\n",
    "        totalDistance += distanceMatrix[route[i], route[i+1]]\n",
    "    return totalDistance"
   ]
  },
  {
   "cell_type": "markdown",
   "metadata": {},
   "source": [
    "## Optimization\n",
    "The TSP is a NP-hard combinatory problem; a robust solver is therefore needed. In this case, the **simulated annealing algorithm** [2](https://en.wikipedia.org/wiki/Simulated_annealing) has been used. This works as follows:\n",
    "1. Start with an initial random solution, which has a value $f(x_0)$ of the objective function. By now, this is the best solution $x_0 = x_{best}$.\n",
    "1. Select a local neighbor $x_{new}$ of this solution and compute $f(x_{new})$. The local neighbor is created with an inversion of a sub-route of $x_0$.\n",
    "1. If $\\Delta E = f(x_{new}) - f(x_{best})\\le 0$, then the new solution is accepted: $x_{best} = x_{new}$.\n",
    "1. If $\\Delta E > 0$, the solution could still be accepted. This happens with a probability $P(\\Delta E) = e^{-\\frac{\\Delta E}{kT}}$. The temperature $T$ is a fundamental variable of the algorithm. As the number of iterations grows, the temperature decrease (with a geometric progression: $T(i)=T(i-1)\\cdot c_r$, where $c_r$ is the cooling ratio). So, the greater the iteration number, the less probability there is to accept a solution which does not optimize the objective function.\n",
    "1. Repeat steps 2-4 until convergence."
   ]
  },
  {
   "cell_type": "code",
   "execution_count": 26,
   "metadata": {},
   "outputs": [],
   "source": [
    "def SimulatedAnnealing(fun, x0, args=(), max_iter=25000, tol=1e-9, T0=2000, cr=0.995):\n",
    "    best_x = x0\n",
    "    T = T0\n",
    "    for i in range(max_iter): \n",
    "        # new candidate solution\n",
    "        new_x = best_x.copy()\n",
    "\n",
    "        id1 = np.random.randint(best_x.shape[0])\n",
    "        id2 = np.random.randint(best_x.shape[0])\n",
    "        new_x[id1:id2] = new_x[id1:id2][::-1]\n",
    "        \n",
    "        delta_E = fun(new_x, args) - fun(best_x, args)\n",
    "        \n",
    "        # Metropolis\n",
    "        if delta_E <= 0:\n",
    "            best_x = new_x\n",
    "        else:\n",
    "            probability = np.exp(-delta_E/T)\n",
    "            if probability > np.random.rand():\n",
    "                best_x = new_x\n",
    "                if delta_E <= tol:\n",
    "                    pass\n",
    "            T *= cr\n",
    "    print(fun(best_x, args))\n",
    "    return best_x"
   ]
  },
  {
   "cell_type": "code",
   "execution_count": 27,
   "metadata": {},
   "outputs": [
    {
     "name": "stdout",
     "output_type": "stream",
     "text": [
      "4.055946886358072\n"
     ]
    }
   ],
   "source": [
    "a=SimulatedAnnealing(computeDistance, np.arange(1,n), args=data)"
   ]
  },
  {
   "cell_type": "code",
   "execution_count": 28,
   "metadata": {},
   "outputs": [
    {
     "data": {
      "text/plain": [
       "Text(0.5, 1.0, 'Best route')"
      ]
     },
     "execution_count": 28,
     "metadata": {},
     "output_type": "execute_result"
    },
    {
     "data": {
      "image/png": "[encoded data removed]",
      "text/plain": [
       "<Figure size 432x288 with 1 Axes>"
      ]
     },
     "metadata": {
      "needs_background": "light"
     },
     "output_type": "display_data"
    }
   ],
   "source": [
    "a = np.insert(a, [0, n-1], data['depot'])\n",
    "plt.plot(x[:,0], x[:,1], 'o')\n",
    "routes = x[a]\n",
    "plt.plot(routes[:,0], routes[:,1])\n",
    "plt.title('Best route')"
   ]
  },
  {
   "cell_type": "markdown",
   "metadata": {},
   "source": [
    "## MATLAB implementation\n",
    "The same algorithm has been implemented in MATLAB, which makes it easier to monitor the convergence of the solution.\n",
    "Here it is reported the monitoring panel developed in MATLAB.\n",
    "\n",
    "![SegmentLocal](TSP.gif \"segment\")"
   ]
  }
 ],
 "metadata": {
  "kernelspec": {
   "display_name": "Python 3",
   "language": "python",
   "name": "python3"
  },
  "language_info": {
   "codemirror_mode": {
    "name": "ipython",
    "version": 3
   },
   "file_extension": ".py",
   "mimetype": "text/x-python",
   "name": "python",
   "nbconvert_exporter": "python",
   "pygments_lexer": "ipython3",
   "version": "3.7.6"
  }
 },
 "nbformat": 4,
 "nbformat_minor": 4
}
